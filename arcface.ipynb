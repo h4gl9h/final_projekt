{
 "cells": [
  {
   "cell_type": "markdown",
   "metadata": {},
   "source": [
    "класификатор на основе предобученной ResNet101 с функцией потерь ArcFace. \n",
    "Обучен на части VGG Face (1016 класов).\n",
    "Слой ембендингов лица - 512 параметров"
   ]
  },
  {
   "cell_type": "code",
   "execution_count": 1,
   "metadata": {
    "execution": {
     "iopub.execute_input": "2021-12-23T12:42:45.119618Z",
     "iopub.status.busy": "2021-12-23T12:42:45.118873Z",
     "iopub.status.idle": "2021-12-23T12:42:45.339368Z",
     "shell.execute_reply": "2021-12-23T12:42:45.338637Z",
     "shell.execute_reply.started": "2021-12-23T12:42:45.119521Z"
    }
   },
   "outputs": [],
   "source": [
    "import numpy as np\n",
    "import pandas as pd\n",
    "import matplotlib.pyplot as plt\n",
    "import sys\n",
    "import os\n",
    "import cv2"
   ]
  },
  {
   "cell_type": "code",
   "execution_count": 5,
   "metadata": {
    "_cell_guid": "b1076dfc-b9ad-4769-8c92-a6c4dae69d19",
    "_uuid": "8f2839f25d086af736a60e9eeb907d3b93b6e0e5",
    "execution": {
     "iopub.execute_input": "2021-12-23T12:44:58.144524Z",
     "iopub.status.busy": "2021-12-23T12:44:58.144256Z",
     "iopub.status.idle": "2021-12-23T12:44:58.150724Z",
     "shell.execute_reply": "2021-12-23T12:44:58.149911Z",
     "shell.execute_reply.started": "2021-12-23T12:44:58.144484Z"
    }
   },
   "outputs": [],
   "source": [
    "import tensorflow as tf\n",
    "from tensorflow.keras.preprocessing import image\n",
    "from tensorflow.keras.preprocessing.image import ImageDataGenerator\n",
    "from tensorflow.keras.callbacks import LearningRateScheduler, ModelCheckpoint, EarlyStopping, ReduceLROnPlateau\n",
    "from tensorflow.keras.callbacks import Callback\n",
    "from tensorflow.keras.regularizers import l2\n",
    "from tensorflow.keras import optimizers\n",
    "from tensorflow.keras.models import Model\n",
    "from tensorflow.keras.applications.xception import Xception\n",
    "from tensorflow.keras.applications import ResNet101\n",
    "from tensorflow.keras.layers import *\n",
    "import keras.backend as K\n",
    "from keras.models import Sequential"
   ]
  },
  {
   "cell_type": "code",
   "execution_count": 10,
   "metadata": {
    "execution": {
     "iopub.execute_input": "2021-12-23T12:46:07.590132Z",
     "iopub.status.busy": "2021-12-23T12:46:07.589849Z",
     "iopub.status.idle": "2021-12-23T12:46:07.595697Z",
     "shell.execute_reply": "2021-12-23T12:46:07.594744Z",
     "shell.execute_reply.started": "2021-12-23T12:46:07.590104Z"
    }
   },
   "outputs": [],
   "source": [
    "# В setup выносим основные настройки: так удобнее их перебирать в дальнейшем.\n",
    "RANDOM_SEED          = 100\n",
    "\n",
    "EPOCHS               = 10  # эпох на обучение\n",
    "BATCH_SIZE           = 64 # \n",
    "LR                   = 0.0001\n",
    "VAL_SPLIT            = 0.15 # сколько данных выделяем на тест = 15%\n",
    "\n",
    "CLASS_NUM            = 1016 \n",
    "IMG_SIZE             = 224 # какого размера подаем изображения в сеть\n",
    "IMG_CHANNELS         = 3   # у RGB 3 канала\n",
    "input_shape          = (IMG_SIZE, IMG_SIZE, IMG_CHANNELS)\n",
    "\n",
    "#PATH = \"../input/dog-vs-cat/dvc/\" # рабочая директория\n",
    "#PATH = \"../input/modified-vggface2/train_refined_resized/\" # рабочая директория\n",
    "PATH = \"../input/vgg1016/data3/\""
   ]
  },
  {
   "cell_type": "code",
   "execution_count": 11,
   "metadata": {
    "execution": {
     "iopub.execute_input": "2021-12-23T12:46:10.729653Z",
     "iopub.status.busy": "2021-12-23T12:46:10.729261Z",
     "iopub.status.idle": "2021-12-23T12:46:10.736164Z",
     "shell.execute_reply": "2021-12-23T12:46:10.735030Z",
     "shell.execute_reply.started": "2021-12-23T12:46:10.729618Z"
    }
   },
   "outputs": [],
   "source": [
    "#Аугментация данных\n",
    "train_datagen = ImageDataGenerator(\n",
    "    rescale=1. / 255, #коэффициент масштабирования. По умолчанию - Нет. Если Нет или 0, \n",
    "    #масштабирование не применяется, в противном случае мы умножаем данные на предоставленное значение \n",
    "    #(после применения всех остальных преобразований).\n",
    "    \n",
    "    rotation_range = 5, #угол случайных поворотов\n",
    "    width_shift_range = 0.1, #диапазон сдвига ширины\n",
    "    height_shift_range = 0.1, #диапазон сдвига высоты\n",
    "    #brightness_range =  [0.5, 1.5], # сдвиг яркости\n",
    "    validation_split = VAL_SPLIT, # Доля выборки для валидации \n",
    "    horizontal_flip = True  # отражение по горизонтали\n",
    "    )\n",
    "\n",
    "test_datagen = ImageDataGenerator(rescale=1. / 255)"
   ]
  },
  {
   "cell_type": "code",
   "execution_count": 12,
   "metadata": {
    "execution": {
     "iopub.execute_input": "2021-12-23T12:46:11.712966Z",
     "iopub.status.busy": "2021-12-23T12:46:11.712691Z",
     "iopub.status.idle": "2021-12-23T12:46:23.091396Z",
     "shell.execute_reply": "2021-12-23T12:46:23.090643Z",
     "shell.execute_reply.started": "2021-12-23T12:46:11.712925Z"
    }
   },
   "outputs": [],
   "source": [
    "#Генерация данных\n",
    "train_generator = train_datagen.flow_from_directory(\n",
    "    PATH,#+'train/',      # директория где расположены папки с картинками \n",
    "    target_size=(IMG_SIZE, IMG_SIZE),\n",
    "    batch_size=BATCH_SIZE,\n",
    "    class_mode='categorical',\n",
    "    shuffle=True, seed=RANDOM_SEED,\n",
    "    subset='training') # set as training data\n",
    "\n",
    "test_generator = train_datagen.flow_from_directory(\n",
    "    PATH,#+'train/',    \n",
    "    target_size=(IMG_SIZE, IMG_SIZE),\n",
    "    batch_size=BATCH_SIZE,\n",
    "    class_mode='categorical',\n",
    "    shuffle=True, seed=RANDOM_SEED,\n",
    "    subset='validation') # set as validation data"
   ]
  },
  {
   "cell_type": "markdown",
   "metadata": {},
   "source": [
    "# **категориальная кроссэнтропия**\n",
    "\n",
    "![](https://i.stack.imgur.com/LSVEc.png)"
   ]
  },
  {
   "cell_type": "code",
   "execution_count": 14,
   "metadata": {
    "execution": {
     "iopub.execute_input": "2021-12-23T12:46:31.568896Z",
     "iopub.status.busy": "2021-12-23T12:46:31.568652Z",
     "iopub.status.idle": "2021-12-23T12:46:31.573862Z",
     "shell.execute_reply": "2021-12-23T12:46:31.573066Z",
     "shell.execute_reply.started": "2021-12-23T12:46:31.568869Z"
    }
   },
   "outputs": [],
   "source": [
    "#категориальная кроссэнтропия\n",
    "import keras.backend as K\n",
    "from tensorflow.python.ops import math_ops\n",
    "\n",
    "def my_c_crossentropy(y_true, y_pred):\n",
    "    r = -K.sum(y_true * K.log(y_pred), axis=1) # сумма по классам\n",
    "    return r"
   ]
  },
  {
   "cell_type": "markdown",
   "metadata": {},
   "source": [
    "# **softmax + категориальная кроссэнтропия = softmax_loss**\n",
    "\n",
    "![](https://lh3.googleusercontent.com/wC2QldxOFZK0CXcOKo9nApAM6FWvjtgJQChzG6Unxh31WPGFF9BqPEKczg_6rHGkb_to_HXG7ko-OH35nfFu4JhgPmp6Ycmyfs9dr78ohdLKt7TLvTWvUoOBpaMPQu3J3firAAMh)"
   ]
  },
  {
   "cell_type": "code",
   "execution_count": 15,
   "metadata": {
    "execution": {
     "iopub.execute_input": "2021-12-23T12:46:31.811496Z",
     "iopub.status.busy": "2021-12-23T12:46:31.810650Z",
     "iopub.status.idle": "2021-12-23T12:46:31.817329Z",
     "shell.execute_reply": "2021-12-23T12:46:31.816396Z",
     "shell.execute_reply.started": "2021-12-23T12:46:31.811437Z"
    }
   },
   "outputs": [],
   "source": [
    "def softmax_loss(y_true, W, b, x):\n",
    "    \n",
    "    y_pred = tf.matmul(x, W) + b\n",
    "    numerators = tf.reduce_sum(y_true * tf.exp(y_pred), axis=1)\n",
    "    denominators = tf.reduce_sum(tf.exp(y_pred), axis=1)\n",
    "    loss = - tf.reduce_sum(K.log(numerators / denominators))\n",
    "\n",
    "    return loss"
   ]
  },
  {
   "cell_type": "markdown",
   "metadata": {},
   "source": [
    "# **Center Loss**\n",
    "\n",
    "![](https://lh6.googleusercontent.com/PzzKwazqd6uLdmIBrCFLxeDBIlVsUazP8Xm-7Q-USkJboqlzEhs5ml6g0HY3FbV_Z35VnRMvYnL6XGZwm_BYkzZAmO-Mi2sWOpt-Llvh94y7DvnV8v_KHD_3K55FOKxicUs9QFjX)"
   ]
  },
  {
   "cell_type": "code",
   "execution_count": 16,
   "metadata": {
    "execution": {
     "iopub.execute_input": "2021-12-23T12:46:32.391058Z",
     "iopub.status.busy": "2021-12-23T12:46:32.390380Z",
     "iopub.status.idle": "2021-12-23T12:46:32.400380Z",
     "shell.execute_reply": "2021-12-23T12:46:32.399426Z",
     "shell.execute_reply.started": "2021-12-23T12:46:32.391022Z"
    }
   },
   "outputs": [],
   "source": [
    "import tensorflow as tf\n",
    "\n",
    "def circle_loss(W, b, lamda_center):\n",
    "    \n",
    "    def inner(y_true, x):\n",
    "        y_pred = tf.matmul(x, W) + b\n",
    "        numerators = tf.reduce_sum(y_true * tf.exp(y_pred), axis=1)\n",
    "        denominators = tf.reduce_sum(tf.exp(y_pred), axis=1)\n",
    "        loss_softmax = - tf.reduce_sum(K.log(numerators / denominators))\n",
    "\n",
    "        class_freqs = tf.reduce_sum(y_true, axis=0, keepdims=True)\n",
    "        class_freqs = tf.transpose(class_freqs)\n",
    "\n",
    "        centres = tf.matmul(tf.transpose(y_true), x)\n",
    "        centres = tf.divide(centres, class_freqs)\n",
    "        repeated_centres = tf.matmul(y_true, centres)\n",
    "\n",
    "        sq_distances = tf.square(tf.norm(x - repeated_centres, axis=1))\n",
    "        loss_centre = tf.reduce_sum(sq_distances)\n",
    "\n",
    "        loss = loss_softmax + (lambda_center/2) * loss_centre \n",
    "\n",
    "        return loss\n",
    "    return inner"
   ]
  },
  {
   "cell_type": "markdown",
   "metadata": {},
   "source": [
    "# **A-Softmax (aka SphereFace)**\n",
    "\n",
    "![](https://lh6.googleusercontent.com/SrP3-1kes_eBb6wJV7jVOdymbT5oYjkIJ9-6ABB49zZ0VGyA5aMjrm1AAW3sV7nFZsAIXeOJSN3EYOQAfalGsDwJjQjE3ppDMneUoYl6JKseMYk1DvzQ-adMRRvwrVnTuO4yTGLg)"
   ]
  },
  {
   "cell_type": "code",
   "execution_count": 17,
   "metadata": {
    "execution": {
     "iopub.execute_input": "2021-12-23T12:46:33.421705Z",
     "iopub.status.busy": "2021-12-23T12:46:33.421448Z",
     "iopub.status.idle": "2021-12-23T12:46:33.428924Z",
     "shell.execute_reply": "2021-12-23T12:46:33.427976Z",
     "shell.execute_reply.started": "2021-12-23T12:46:33.421676Z"
    }
   },
   "outputs": [],
   "source": [
    "def SphereFaceLoss(W, x, m):\n",
    "    def inner(y_true, x):\n",
    "    \n",
    "        # replace 0 => 1 and 1=> m in y_true\n",
    "        M = (m-1) * y_true + 1\n",
    "    \n",
    "        # consider normalized weight matrix\n",
    "        normalized_W, norms = tf.linalg.normalize(W, axis=0)\n",
    "    \n",
    "        # get dot products (projections)\n",
    "        y_pred = x * normalized_W\n",
    "\n",
    "        # W . x = ||W||*||x||*cos(theta)\n",
    "        # but ||W|| = 1\n",
    "        # so (W . x) / ||x|| = cos(theta) \n",
    "    \n",
    "        cos_theta, norm_x = tf.linalg.normalize(y_pred, axis=1)    \n",
    "        theta = tf.acos(cos_theta)\n",
    "    \n",
    "        # multiply theta by appropriate margin\n",
    "        new_theta = theta * M\n",
    "        new_cos_theta = tf.cos(new_theta)\n",
    "        new_y_pred = norm_x * new_cos_theta\n",
    "\n",
    "        # the following part is the same as softmax loss\n",
    "        numerators = tf.reduce_sum(y_true * tf.exp(new_y_pred), axis=1)\n",
    "        denominators = tf.reduce_sum(tf.exp(new_y_pred), axis=1)\n",
    "        loss = - tf.reduce_sum(K.log(numerators / denominators))\n",
    "\n",
    "        return loss\n",
    "    return inner"
   ]
  },
  {
   "cell_type": "markdown",
   "metadata": {},
   "source": [
    "# **Large Margin Cosine Loss (aka CosFace)**\n",
    "\n",
    "![](https://lh5.googleusercontent.com/GD1d8wP1WLM3Wr0VMRMmYcdjWLnHpoOg03l4_pbM_v6PSFs4iCW3po5Fblzy5G4NMPJC4SaDcwV6o4Gbe8OZ7aR0feoPnJwyah1iqpUebzUsHkypEXlcSAcRh6AWaw52v86eah5K)"
   ]
  },
  {
   "cell_type": "code",
   "execution_count": 18,
   "metadata": {
    "execution": {
     "iopub.execute_input": "2021-12-23T12:46:34.123219Z",
     "iopub.status.busy": "2021-12-23T12:46:34.122816Z",
     "iopub.status.idle": "2021-12-23T12:46:34.130496Z",
     "shell.execute_reply": "2021-12-23T12:46:34.129819Z",
     "shell.execute_reply.started": "2021-12-23T12:46:34.123185Z"
    }
   },
   "outputs": [],
   "source": [
    "def CosFaceLoss(W, m, s):\n",
    "    def inner(y_true, x):\n",
    "        # replace 0 => 1 and 1=> m in y_true\n",
    "        y_true = tf.cast(y_true, dtype=tf.float32)\n",
    "        M = m * y_true\n",
    "\n",
    "        # W . x = ||W|| * ||x|| * cos(theta)\n",
    "        # so (W . x) / (||W|| * ||x||) = cos(theta)\n",
    "\n",
    "        dot_product = tf.matmul(x, W)\n",
    "        cos_theta, cos_theta_norm = tf.linalg.normalize(dot_product,axis=0)\n",
    "\n",
    "        # re-scale the cosines by a hyper-parameter s\n",
    "        # and subtract appropriate margin\n",
    "        y_pred = s * cos_theta - M\n",
    "\n",
    "        # the following part is the same as softmax loss\n",
    "        numerators = tf.reduce_sum(y_true * tf.exp(y_pred), axis=1)\n",
    "        denominators = tf.reduce_sum(tf.exp(y_pred), axis=1)\n",
    "        loss = - tf.reduce_sum(tf.math.log(numerators/denominators))\n",
    "        return loss\n",
    "    return inner"
   ]
  },
  {
   "cell_type": "markdown",
   "metadata": {},
   "source": [
    "# **Additive Angular Margin Loss (aka ArcFace)**\n",
    "\n",
    "![](https://lh6.googleusercontent.com/5GX2-zIqIKM-Ge6dqiK9hikijptd_5L5ARYU4BbaG4qtHJHJpDs3lSBBCUOBogSHCFjdXpeffbOR_bypzWAXHFPTn6ThHrYin7Vf1R4e2-WrTgOgY4DtJCcFXgpI6tI8gGYb5AMQ)"
   ]
  },
  {
   "cell_type": "code",
   "execution_count": 19,
   "metadata": {
    "execution": {
     "iopub.execute_input": "2021-12-23T12:46:34.797706Z",
     "iopub.status.busy": "2021-12-23T12:46:34.796909Z",
     "iopub.status.idle": "2021-12-23T12:46:34.805524Z",
     "shell.execute_reply": "2021-12-23T12:46:34.804718Z",
     "shell.execute_reply.started": "2021-12-23T12:46:34.797664Z"
    }
   },
   "outputs": [],
   "source": [
    "def ArcFaceLoss(W, m, s):\n",
    "    def inner(y_true, x):\n",
    "        # replace 0 => 1 and 1=> m in y_true\n",
    "        M = (m-1) * y_true + 1\n",
    "        \n",
    "        # W . x = ||W||*||x||*cos(theta)\n",
    "        # but ||W|| = 1 and ||x|| = 1\n",
    "        # so (W . x) = cos(theta) \n",
    "        dot_product = tf.matmul(x, W)\n",
    "        cos_theta,cos_theta_norms = tf.linalg.normalize(dot_product,axis=0)\n",
    "\n",
    "        theta = tf.acos(cos_theta)\n",
    "    \n",
    "        # add appropriate margin to theta\n",
    "        new_theta = theta + M\n",
    "        new_cos_theta = tf.cos(new_theta)\n",
    "    \n",
    "        # re-scale the cosines by a hyper-parameter s\n",
    "        y_pred = s * new_cos_theta     \n",
    "\n",
    "        # the following part is the same as softmax loss\n",
    "        numerators = tf.reduce_sum(y_true * tf.exp(y_pred), axis=1)\n",
    "        denominators = tf.reduce_sum(tf.exp(y_pred), axis=1)\n",
    "        loss = - tf.reduce_sum(K.log(numerators / denominators))\n",
    "    \n",
    "        return loss\n",
    "\n",
    "    return inner"
   ]
  },
  {
   "cell_type": "code",
   "execution_count": null,
   "metadata": {},
   "outputs": [],
   "source": []
  },
  {
   "cell_type": "code",
   "execution_count": 20,
   "metadata": {
    "execution": {
     "iopub.execute_input": "2021-12-23T12:46:39.154826Z",
     "iopub.status.busy": "2021-12-23T12:46:39.154126Z",
     "iopub.status.idle": "2021-12-23T12:46:45.413386Z",
     "shell.execute_reply": "2021-12-23T12:46:45.412636Z",
     "shell.execute_reply.started": "2021-12-23T12:46:39.154786Z"
    }
   },
   "outputs": [],
   "source": [
    "#Строим модель\n",
    "#Загружаем предобученную сеть :\n",
    "#base_model = Xception(weights='imagenet', include_top=False, input_shape = input_shape)\n",
    "base_model = ResNet101(weights='imagenet', include_top=False, input_shape = input_shape)\n",
    "#base_model.trainable = False\n",
    "#base_model.summary()\n",
    "#Устанавливаем новую «голову» (head):\n",
    "x = base_model.output\n",
    "x = GlobalAveragePooling2D()(x)  #Pooling слой\n",
    "x = BatchNormalization()(x) #добавим Batch нормализацию\n",
    "x = Dense(512, activation='elu')(x) # полносвязный слой с активацией elu\n",
    "x = Dropout(0.25)(x) # полносвязный слой с вероятность отключения нейронов в слое\n",
    "predictions = Dense(CLASS_NUM, activation='sigmoid')(x) #логистический слой c 2 классами\n",
    "\n",
    "predictions.trainable = False\n",
    "\n",
    "#model = Model(inputs=base_model.input, outputs=predictions)\n",
    "model = tf.keras.models.Model(inputs=base_model.input, outputs=[x, predictions])\n",
    "\n",
    "\n",
    "def dummy_loss(ytrue, ypred):\n",
    "    return tf.constant([0])\n",
    "\n",
    "#loss_func = CosFaceLoss(W=model.layers[-1].weights[0], m=10.0, s=10.0)\n",
    "loss_func = ArcFaceLoss(W=model.layers[-1].weights[0], m=0.2, s=10.0)\n",
    "\n",
    "model.compile(loss=[loss_func, dummy_loss], optimizer=optimizers.Adam(lr=LR), metrics=[\"accuracy\"])\n"
   ]
  },
  {
   "cell_type": "code",
   "execution_count": 21,
   "metadata": {
    "execution": {
     "iopub.execute_input": "2021-12-23T12:46:47.337677Z",
     "iopub.status.busy": "2021-12-23T12:46:47.337172Z",
     "iopub.status.idle": "2021-12-23T12:46:47.354278Z",
     "shell.execute_reply": "2021-12-23T12:46:47.353541Z",
     "shell.execute_reply.started": "2021-12-23T12:46:47.337637Z"
    }
   },
   "outputs": [],
   "source": [
    "base_model.trainable = True"
   ]
  },
  {
   "cell_type": "code",
   "execution_count": null,
   "metadata": {},
   "outputs": [],
   "source": []
  },
  {
   "cell_type": "code",
   "execution_count": 22,
   "metadata": {
    "execution": {
     "iopub.execute_input": "2021-12-23T12:46:50.510172Z",
     "iopub.status.busy": "2021-12-23T12:46:50.509902Z",
     "iopub.status.idle": "2021-12-23T12:46:50.517325Z",
     "shell.execute_reply": "2021-12-23T12:46:50.515742Z",
     "shell.execute_reply.started": "2021-12-23T12:46:50.510143Z"
    }
   },
   "outputs": [],
   "source": [
    "#Добавим ModelCheckpoint. Эта функция позволяет сохранять прогресс обучения модели,\n",
    "#чтобы в нужный момент можно было его подгрузить и дообучить модель.\n",
    "checkpoint = ModelCheckpoint('dvc.hdf5' , monitor = ['val_accuracy'] , verbose = 1  , mode = 'max')\n",
    "\n",
    "#останоить обучение, когда метрика перестает улучшаться.\n",
    "earlystop = EarlyStopping(monitor = 'val_accuracy', patience = 4, restore_best_weights = True)\n",
    "\n",
    "#Снижайть скорость обучения, когда метрика перестает улучшаться.\n",
    "reduce_lr = ReduceLROnPlateau(monitor='val_loss', factor=0.25, patience=2, min_lr=0.0000001, verbose=1, mode='auto')\n",
    "    \n",
    "callbacks_list = [checkpoint, earlystop, reduce_lr]"
   ]
  },
  {
   "cell_type": "code",
   "execution_count": null,
   "metadata": {},
   "outputs": [],
   "source": []
  },
  {
   "cell_type": "code",
   "execution_count": 23,
   "metadata": {
    "execution": {
     "iopub.execute_input": "2021-12-23T12:46:56.619001Z",
     "iopub.status.busy": "2021-12-23T12:46:56.618740Z",
     "iopub.status.idle": "2021-12-23T12:47:29.381135Z",
     "shell.execute_reply": "2021-12-23T12:47:29.378864Z",
     "shell.execute_reply.started": "2021-12-23T12:46:56.618972Z"
    }
   },
   "outputs": [],
   "source": [
    "#Обучаем модель\n",
    "history = model.fit_generator(\n",
    "        train_generator,\n",
    "        steps_per_epoch = len(train_generator),\n",
    "        validation_data = test_generator, \n",
    "        validation_steps = len(test_generator),\n",
    "        epochs = EPOCHS,\n",
    "        callbacks = callbacks_list\n",
    ")"
   ]
  },
  {
   "cell_type": "code",
   "execution_count": null,
   "metadata": {
    "execution": {
     "iopub.execute_input": "2021-12-22T06:49:17.595967Z",
     "iopub.status.busy": "2021-12-22T06:49:17.59569Z",
     "iopub.status.idle": "2021-12-22T06:49:17.599935Z",
     "shell.execute_reply": "2021-12-22T06:49:17.599268Z",
     "shell.execute_reply.started": "2021-12-22T06:49:17.595931Z"
    }
   },
   "outputs": [],
   "source": [
    "test_img = '../input/test-dvc/test1/1.jpg'"
   ]
  },
  {
   "cell_type": "code",
   "execution_count": null,
   "metadata": {
    "execution": {
     "iopub.execute_input": "2021-12-22T06:49:17.601821Z",
     "iopub.status.busy": "2021-12-22T06:49:17.601269Z",
     "iopub.status.idle": "2021-12-22T06:49:18.929061Z",
     "shell.execute_reply": "2021-12-22T06:49:18.928259Z",
     "shell.execute_reply.started": "2021-12-22T06:49:17.601778Z"
    }
   },
   "outputs": [],
   "source": [
    "from matplotlib import pyplot\n",
    "from matplotlib.image import imread\n",
    "image = imread(test_img)\n",
    "# plot raw pixel data\n",
    "pyplot.imshow(image)\n",
    "# show the figure\n",
    "pyplot.show()\n",
    "image = cv2.imread(test_img)[..., ::-1]\n",
    "image3 = cv2.resize(image, (224, 224))/255\n",
    "pred = model.predict(image3[None, ...])\n",
    "#print(pred)\n",
    "predict = np.argmax(pred[1], axis=-1)\n",
    "#print(predictions)\n",
    "if predict == 0:\n",
    "    print('it`s cat')\n",
    "else:\n",
    "    print('it`s dog') "
   ]
  },
  {
   "cell_type": "code",
   "execution_count": null,
   "metadata": {},
   "outputs": [],
   "source": []
  },
  {
   "cell_type": "code",
   "execution_count": null,
   "metadata": {},
   "outputs": [],
   "source": []
  },
  {
   "cell_type": "code",
   "execution_count": null,
   "metadata": {},
   "outputs": [],
   "source": []
  }
 ],
 "metadata": {
  "kernelspec": {
   "display_name": "Python 3",
   "language": "python",
   "name": "python3"
  },
  "language_info": {
   "codemirror_mode": {
    "name": "ipython",
    "version": 3
   },
   "file_extension": ".py",
   "mimetype": "text/x-python",
   "name": "python",
   "nbconvert_exporter": "python",
   "pygments_lexer": "ipython3",
   "version": "3.7.6"
  }
 },
 "nbformat": 4,
 "nbformat_minor": 4
}
